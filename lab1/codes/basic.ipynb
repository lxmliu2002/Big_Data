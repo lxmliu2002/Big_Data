{
 "cells": [
  {
   "cell_type": "code",
   "execution_count": 6,
   "metadata": {},
   "outputs": [],
   "source": [
    "import numpy as np\n",
    "import os"
   ]
  },
  {
   "cell_type": "code",
   "execution_count": 7,
   "metadata": {},
   "outputs": [],
   "source": [
    "def read_graph(file_path):\n",
    "    G = {}\n",
    "    nodes = []\n",
    "    with open(file_path, 'r') as f:\n",
    "        for line in f:\n",
    "            from_node, to_node = map(int, line.strip().split())\n",
    "            if from_node not in G:\n",
    "                G[from_node] = []\n",
    "            G[from_node].append(to_node)\n",
    "            if from_node not in nodes:\n",
    "                nodes.append(from_node)\n",
    "            if to_node not in nodes:\n",
    "                nodes.append(to_node)\n",
    "    return G, nodes"
   ]
  },
  {
   "cell_type": "code",
   "execution_count": 22,
   "metadata": {},
   "outputs": [],
   "source": [
    "def calculate_pagerank_and_sort(G, nodes, N, teleport_parameter):\n",
    "    \"\"\"\n",
    "    迭代法求解\n",
    "    \"\"\"\n",
    "    index = {}\n",
    "    for i, node in enumerate(sorted(nodes)):\n",
    "        index[node] = i\n",
    "\n",
    "    S = np.zeros([N, N], dtype = np.float64)\n",
    "    for from_node, to_nodes in G.items():\n",
    "        for to_node in to_nodes:\n",
    "            S[index[to_node], index[from_node]] = 1\n",
    "\n",
    "    for j in range(N):\n",
    "        sum_of_col = sum(S[:, j])\n",
    "        if sum_of_col == 0:\n",
    "            S[:, j] = 1 / N\n",
    "        else:\n",
    "            S[:, j] /= sum_of_col\n",
    "    \n",
    "    A = teleport_parameter * S + (1 - teleport_parameter) / N * np.ones([N, N], dtype = np.float64)\n",
    "    \n",
    "    P_n = np.ones(N, dtype = np.float64) / N\n",
    "    P_n1 = np.zeros(N, dtype = np.float64)\n",
    "    \n",
    "    e = 100\n",
    "    \n",
    "    tol = 1 / (N * N)\n",
    "    \n",
    "    while e > tol:\n",
    "        P_n1 = np.dot(A, P_n)\n",
    "        e = P_n1 - P_n\n",
    "        e = max(map(abs, e))\n",
    "        P_n = P_n1\n",
    "        \n",
    "    sorted_nodes = sorted(index.items(), key = lambda x: P_n[x[1]], reverse=True)\n",
    "    \n",
    "    sorted_results = []\n",
    "    for node, index in sorted_nodes[:100]:\n",
    "        sorted_results.append((node, P_n[index]))\n",
    "    \n",
    "    return sorted_results"
   ]
  },
  {
   "cell_type": "code",
   "execution_count": 20,
   "metadata": {},
   "outputs": [],
   "source": [
    "def calculate_pagerank_and_sort_sum(G, nodes, N, teleport_parameter):\n",
    "    \"\"\"\n",
    "    代数法求解\n",
    "    \"\"\"\n",
    "    index = {}\n",
    "    for i, node in enumerate(sorted(nodes)):\n",
    "        index[node] = i\n",
    "\n",
    "    S = np.zeros([N, N], dtype = np.float64)\n",
    "    for from_node, to_nodes in G.items():\n",
    "        for to_node in to_nodes:\n",
    "            S[index[to_node], index[from_node]] = 1\n",
    "\n",
    "    for j in range(N):\n",
    "        sum_of_col = sum(S[:, j])\n",
    "        if sum_of_col == 0:\n",
    "            S[:, j] = 1 / N\n",
    "        else:\n",
    "            S[:, j] /= sum_of_col\n",
    "    \n",
    "    e = np.identity(N, dtype = np.float64)\n",
    "    eT = np.ones([N, 1], dtype = np.float64)\n",
    "\n",
    "    P = np.dot(np.linalg.inv(e - teleport_parameter * S), ((1 - teleport_parameter) / N * eT)).flatten()\n",
    "    \n",
    "    sorted_nodes = sorted(index.items(), key = lambda x: P[x[1]], reverse=True)\n",
    "    \n",
    "    sorted_results = []\n",
    "    for node, index in sorted_nodes[:100]:\n",
    "        sorted_results.append((node, P[index]))\n",
    "    \n",
    "    return sorted_results"
   ]
  },
  {
   "cell_type": "code",
   "execution_count": 9,
   "metadata": {},
   "outputs": [],
   "source": [
    "def output_result(results, file_path):\n",
    "    with open(file_path, 'w') as f:\n",
    "        for node, score in results:\n",
    "            f.write(f\"{node} {score}\\n\")"
   ]
  },
  {
   "cell_type": "code",
   "execution_count": 23,
   "metadata": {},
   "outputs": [],
   "source": [
    "if __name__ == '__main__':\n",
    "    \"\"\"\n",
    "    迭代法求解\n",
    "    \"\"\"\n",
    "    data_file_path = './Data.txt'\n",
    "    output_file_path = './output/basic_1.txt'\n",
    "    \n",
    "    teleport_parameter = 0.85\n",
    "    \n",
    "    G, nodes= read_graph(data_file_path)\n",
    "    N = len(nodes)\n",
    "    sorted_results = calculate_pagerank_and_sort(G, nodes, N, teleport_parameter)\n",
    "    output_result(sorted_results, output_file_path)"
   ]
  },
  {
   "cell_type": "code",
   "execution_count": 21,
   "metadata": {},
   "outputs": [],
   "source": [
    "if __name__ == '__main__':\n",
    "    \"\"\"\n",
    "    代数法求解\n",
    "    \"\"\"\n",
    "    data_file_path = './Data.txt'\n",
    "    output_file_path = './output/basic_2.txt'\n",
    "    \n",
    "    teleport_parameter = 0.85\n",
    "    \n",
    "    G, nodes= read_graph(data_file_path)\n",
    "    N = len(nodes)\n",
    "    sorted_results = calculate_pagerank_and_sort_sum(G, nodes, N, teleport_parameter)\n",
    "    output_result(sorted_results, output_file_path)"
   ]
  }
 ],
 "metadata": {
  "kernelspec": {
   "display_name": "Python 3",
   "language": "python",
   "name": "python3"
  },
  "language_info": {
   "codemirror_mode": {
    "name": "ipython",
    "version": 3
   },
   "file_extension": ".py",
   "mimetype": "text/x-python",
   "name": "python",
   "nbconvert_exporter": "python",
   "pygments_lexer": "ipython3",
   "version": "3.11.4"
  }
 },
 "nbformat": 4,
 "nbformat_minor": 2
}
