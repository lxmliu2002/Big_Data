{
 "cells": [
  {
   "cell_type": "code",
   "execution_count": 8,
   "metadata": {},
   "outputs": [],
   "source": [
    "import os\n",
    "\n",
    "def compare_files(file1_path, file2_path):\n",
    "    file1_name, file1_ext = os.path.splitext(os.path.basename(file1_path))\n",
    "    file2_name, file2_ext = os.path.splitext(os.path.basename(file2_path))\n",
    "    \n",
    "    output_file_name = f\"{file1_name}_{file2_name}_comparison{file1_ext}\"\n",
    "    output_file_path = os.path.join(os.path.dirname(file1_path), output_file_name)\n",
    "\n",
    "    with open(file1_path, 'r') as f1, open(file2_path, 'r') as f2, open(output_file_path, 'w') as output_file:\n",
    "        for line1, line2 in zip(f1, f2):\n",
    "            num1_1, num1_2 = map(float, line1.strip().split())\n",
    "            num2_1, num2_2 = map(float, line2.strip().split())\n",
    "            result1 = num1_1 - num2_1\n",
    "            result2 = num1_2 - num2_2\n",
    "\n",
    "            output_file.write(f\"{result1} {result2}\\n\")\n",
    "\n",
    "if __name__ == \"__main__\":\n",
    "    file1_path = \"./output/basic_1.txt\"\n",
    "    file2_path = \"./output/basic_2.txt\"\n",
    "\n",
    "    compare_files(file1_path, file2_path)"
   ]
  }
 ],
 "metadata": {
  "kernelspec": {
   "display_name": "Python 3",
   "language": "python",
   "name": "python3"
  },
  "language_info": {
   "codemirror_mode": {
    "name": "ipython",
    "version": 3
   },
   "file_extension": ".py",
   "mimetype": "text/x-python",
   "name": "python",
   "nbconvert_exporter": "python",
   "pygments_lexer": "ipython3",
   "version": "3.11.4"
  }
 },
 "nbformat": 4,
 "nbformat_minor": 2
}
