{
 "cells": [
  {
   "cell_type": "markdown",
   "metadata": {},
   "source": [
    "# PageRank with Networkx\n",
    "\n",
    "> For testing our results"
   ]
  },
  {
   "cell_type": "code",
   "execution_count": 2,
   "metadata": {},
   "outputs": [],
   "source": [
    "import networkx as nx"
   ]
  },
  {
   "cell_type": "markdown",
   "metadata": {},
   "source": [
    "* teleport_parameter = 0.85\n",
    "\n",
    "* tol = 1 / (N * N)\n",
    "\n",
    "* output_path = ./output/networkx.txt"
   ]
  },
  {
   "cell_type": "code",
   "execution_count": 3,
   "metadata": {},
   "outputs": [],
   "source": [
    "def read_graph(file_path):\n",
    "    G = nx.DiGraph()\n",
    "    with open(file_path, 'r') as f:\n",
    "        for line in f:\n",
    "            from_node, to_node = map(int, line.strip().split())\n",
    "            G.add_edge(from_node, to_node)\n",
    "    return G\n",
    "\n",
    "def calculate_pagerank_and_sort(G, teleport_parameter=0.85, tol=1e-20, top_n=100):\n",
    "    pagerank_scores = nx.pagerank(G, alpha=teleport_parameter, tol=tol)\n",
    "    sorted_scores = sorted(pagerank_scores.items(), key=lambda x: x[1], reverse=True)\n",
    "    return sorted_scores[:top_n]\n",
    "\n",
    "def output_result(results, file_path):\n",
    "    with open(file_path, 'w') as f:\n",
    "        for node, score in results:\n",
    "            f.write(f\"{node} {score}\\n\")\n",
    "\n",
    "if __name__ == '__main__':\n",
    "    data_file_path = './Data.txt'\n",
    "    output_file_path = './output/networkx.txt'\n",
    "    \n",
    "    teleport_parameter = 0.85\n",
    "    tol = 1e-10\n",
    "\n",
    "    G = read_graph(data_file_path)\n",
    "    tol = 1 / (G.number_of_nodes() * G.number_of_nodes())\n",
    "    \n",
    "    sorted_results = calculate_pagerank_and_sort(G=G, teleport_parameter=teleport_parameter, tol=tol, top_n=100)\n",
    "    output_result(sorted_results, output_file_path)\n",
    "    "
   ]
  },
  {
   "cell_type": "markdown",
   "metadata": {},
   "source": [
    "* teleport_parameter = 0.85\n",
    "\n",
    "* output_path = ./output/networkx_withouttol.txt"
   ]
  },
  {
   "cell_type": "code",
   "execution_count": 4,
   "metadata": {},
   "outputs": [],
   "source": [
    "def read_graph(file_path):\n",
    "    G = nx.DiGraph()\n",
    "    with open(file_path, 'r') as f:\n",
    "        for line in f:\n",
    "            from_node, to_node = map(int, line.strip().split())\n",
    "            G.add_edge(from_node, to_node)\n",
    "    return G\n",
    "\n",
    "def calculate_pagerank_and_sort(G, teleport_parameter=0.85, top_n=100):\n",
    "    pagerank_scores = nx.pagerank(G, alpha=teleport_parameter)\n",
    "    sorted_scores = sorted(pagerank_scores.items(), key=lambda x: x[1], reverse=True)\n",
    "    return sorted_scores[:top_n]\n",
    "\n",
    "def output_result(results, file_path):\n",
    "    with open(file_path, 'w') as f:\n",
    "        for node, score in results:\n",
    "            f.write(f\"{node} {score}\\n\")\n",
    "\n",
    "if __name__ == '__main__':\n",
    "    data_file_path = './Data.txt'\n",
    "    output_file_path = './output/networkx_withouttol.txt'\n",
    "    \n",
    "    teleport_parameter = 0.85\n",
    "\n",
    "    G = read_graph(data_file_path)\n",
    "    sorted_results = calculate_pagerank_and_sort(G=G, teleport_parameter=teleport_parameter, top_n=100)\n",
    "    output_result(sorted_results, output_file_path)\n",
    "    "
   ]
  }
 ],
 "metadata": {
  "kernelspec": {
   "display_name": "Python 3",
   "language": "python",
   "name": "python3"
  },
  "language_info": {
   "codemirror_mode": {
    "name": "ipython",
    "version": 3
   },
   "file_extension": ".py",
   "mimetype": "text/x-python",
   "name": "python",
   "nbconvert_exporter": "python",
   "pygments_lexer": "ipython3",
   "version": "3.11.7"
  }
 },
 "nbformat": 4,
 "nbformat_minor": 2
}
